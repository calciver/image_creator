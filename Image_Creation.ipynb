{
  "nbformat": 4,
  "nbformat_minor": 0,
  "metadata": {
    "colab": {
      "name": "Image Creation for Mark.ipynb",
      "version": "0.3.2",
      "provenance": [],
      "collapsed_sections": [],
      "include_colab_link": true
    },
    "kernelspec": {
      "name": "python3",
      "display_name": "Python 3"
    }
  },
  "cells": [
    {
      "cell_type": "markdown",
      "metadata": {
        "id": "view-in-github",
        "colab_type": "text"
      },
      "source": [
        "<a href=\"https://colab.research.google.com/github/calciver/image_creator/blob/master/Image_Creation.ipynb\" target=\"_parent\"><img src=\"https://colab.research.google.com/assets/colab-badge.svg\" alt=\"Open In Colab\"/></a>"
      ]
    },
    {
      "cell_type": "markdown",
      "metadata": {
        "id": "V_4HmRxnt8Gr",
        "colab_type": "text"
      },
      "source": [
        "# Clone the github repo"
      ]
    },
    {
      "cell_type": "code",
      "metadata": {
        "id": "UCftFuuKoxVe",
        "colab_type": "code",
        "outputId": "d058d924-eb38-4c43-d99a-a21858db155d",
        "colab": {
          "base_uri": "https://localhost:8080/",
          "height": 119
        }
      },
      "source": [
        "!git clone https://github.com/calciver/image_creator.git"
      ],
      "execution_count": 1,
      "outputs": [
        {
          "output_type": "stream",
          "text": [
            "Cloning into 'image_creator'...\n",
            "remote: Enumerating objects: 18, done.\u001b[K\n",
            "remote: Counting objects: 100% (18/18), done.\u001b[K\n",
            "remote: Compressing objects: 100% (14/14), done.\u001b[K\n",
            "remote: Total 18 (delta 3), reused 13 (delta 1), pack-reused 0\u001b[K\n",
            "Unpacking objects: 100% (18/18), done.\n"
          ],
          "name": "stdout"
        }
      ]
    },
    {
      "cell_type": "markdown",
      "metadata": {
        "id": "LBeiTaZBt-qQ",
        "colab_type": "text"
      },
      "source": [
        "# cd into the directory (or open a terminal in that github folder)"
      ]
    },
    {
      "cell_type": "code",
      "metadata": {
        "id": "omJSdUGUo6CD",
        "colab_type": "code",
        "outputId": "8d50317f-8c2f-49fc-d78c-b66b589b49a6",
        "colab": {
          "base_uri": "https://localhost:8080/",
          "height": 34
        }
      },
      "source": [
        "import os\n",
        "os.chdir('/content/image_creator')\n",
        "!ls"
      ],
      "execution_count": 2,
      "outputs": [
        {
          "output_type": "stream",
          "text": [
            "code.py  input\toutput\tREADME.md\n"
          ],
          "name": "stdout"
        }
      ]
    },
    {
      "cell_type": "markdown",
      "metadata": {
        "id": "GewGcbbsuFNj",
        "colab_type": "text"
      },
      "source": [
        "# After you verify that the input folder contains some pictures and the output contains nothing but a text file, run the cell below."
      ]
    },
    {
      "cell_type": "code",
      "metadata": {
        "id": "Y_LYey7utIh-",
        "colab_type": "code",
        "colab": {}
      },
      "source": [
        "!python code.py"
      ],
      "execution_count": 0,
      "outputs": []
    }
  ]
}